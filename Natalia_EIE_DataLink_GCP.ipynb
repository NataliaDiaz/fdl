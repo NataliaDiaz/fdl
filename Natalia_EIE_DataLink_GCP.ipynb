{
  "nbformat": 4,
  "nbformat_minor": 0,
  "metadata": {
    "colab": {
      "name": "Natalia EIE DataLink_GCP.ipynb",
      "provenance": [],
      "collapsed_sections": [],
      "include_colab_link": true
    },
    "kernelspec": {
      "name": "python3",
      "display_name": "Python 3"
    },
    "accelerator": "GPU"
  },
  "cells": [
    {
      "cell_type": "markdown",
      "metadata": {
        "id": "view-in-github",
        "colab_type": "text"
      },
      "source": [
        "<a href=\"https://colab.research.google.com/github/NataliaDiaz/fdl/blob/master/Natalia_EIE_DataLink_GCP.ipynb\" target=\"_parent\"><img src=\"https://colab.research.google.com/assets/colab-badge.svg\" alt=\"Open In Colab\"/></a>"
      ]
    },
    {
      "cell_type": "markdown",
      "metadata": {
        "id": "kn_maGPrqI8m",
        "colab_type": "text"
      },
      "source": [
        "### This notebook is to link Colab operations with Google Cloud buckets"
      ]
    },
    {
      "cell_type": "code",
      "metadata": {
        "id": "xjGVdy7UsmYn",
        "colab_type": "code",
        "colab": {}
      },
      "source": [
        "#example for now\n",
        "import torch\n",
        "import tensorflow as tf\n",
        "import numpy as np\n",
        "% matplotlib inline"
      ],
      "execution_count": null,
      "outputs": []
    },
    {
      "cell_type": "code",
      "metadata": {
        "id": "kCdHRaIyNIyX",
        "colab_type": "code",
        "colab": {
          "base_uri": "https://localhost:8080/",
          "height": 34
        },
        "outputId": "5975d861-3a3b-4e65-b58a-50b70df33f19"
      },
      "source": [
        "!gcloud config set project fdl-astronaut-health"
      ],
      "execution_count": null,
      "outputs": [
        {
          "output_type": "stream",
          "text": [
            "Updated property [core/project].\n"
          ],
          "name": "stdout"
        }
      ]
    },
    {
      "cell_type": "markdown",
      "metadata": {
        "id": "QFronRCUqRx-",
        "colab_type": "text"
      },
      "source": [
        "#### Linking with Frank's Google Cloud Bucket\n",
        "(you need to send Frank your Google Cloud ID/gmail address so he can add you to the bucket)"
      ]
    },
    {
      "cell_type": "code",
      "metadata": {
        "id": "ZiWN8sbCqFdO",
        "colab_type": "code",
        "colab": {
          "base_uri": "https://localhost:8080/",
          "height": 356
        },
        "outputId": "8ca3bfcf-5c34-4db8-bb1a-874f0269166c"
      },
      "source": [
        "# Set the output directory for saving model file\n",
        "# Optionally, set a GCP bucket location\n",
        "\n",
        "OUTPUT_DIR = 'ah_data_1'#@param {type:\"string\"}\n",
        "#@markdown To clear/delete the directory and create a new one\n",
        "DO_DELETE = False #@param {type:\"boolean\"}\n",
        "#@markdown Set USE_BUCKET and BUCKET if you want to (optionally) store model output on GCP bucket.\n",
        "USE_BUCKET = True #@param {type:\"boolean\"}\n",
        "#mr=moonraiders bucket; don't ask abut the navy!\n",
        "BUCKET = 'fdl-astronaut-health' #@param {type:\"string\"}\n",
        "\n",
        "if USE_BUCKET:\n",
        "  OUTPUT_DIR = 'gs://{}/{}'.format(BUCKET, OUTPUT_DIR)\n",
        "  from google.colab import auth\n",
        "  auth.authenticate_user()\n",
        "project_id = 'fdl-astronaut-health' # don't ask\n",
        "!gcloud config set project {project_id}\n",
        "\n",
        "if DO_DELETE:\n",
        "  try:\n",
        "    tf.io.gfile.DeleteRecursively(OUTPUT_DIR)\n",
        "  except:\n",
        "    # Doesn't matter if the directory didn't exist\n",
        "    pass\n",
        "tf.io.gfile.makedirs(OUTPUT_DIR)\n",
        "print('***** Model output directory: {} *****'.format(OUTPUT_DIR))\n"
      ],
      "execution_count": null,
      "outputs": [
        {
          "output_type": "stream",
          "text": [
            "Updated property [core/project].\n"
          ],
          "name": "stdout"
        },
        {
          "output_type": "error",
          "ename": "InvalidArgumentError",
          "evalue": "ignored",
          "traceback": [
            "\u001b[0;31m---------------------------------------------------------------------------\u001b[0m",
            "\u001b[0;31mInvalidArgumentError\u001b[0m                      Traceback (most recent call last)",
            "\u001b[0;32m<ipython-input-5-8cb422c9e800>\u001b[0m in \u001b[0;36m<module>\u001b[0;34m()\u001b[0m\n\u001b[1;32m     23\u001b[0m     \u001b[0;31m# Doesn't matter if the directory didn't exist\u001b[0m\u001b[0;34m\u001b[0m\u001b[0;34m\u001b[0m\u001b[0;34m\u001b[0m\u001b[0m\n\u001b[1;32m     24\u001b[0m     \u001b[0;32mpass\u001b[0m\u001b[0;34m\u001b[0m\u001b[0;34m\u001b[0m\u001b[0m\n\u001b[0;32m---> 25\u001b[0;31m \u001b[0mtf\u001b[0m\u001b[0;34m.\u001b[0m\u001b[0mio\u001b[0m\u001b[0;34m.\u001b[0m\u001b[0mgfile\u001b[0m\u001b[0;34m.\u001b[0m\u001b[0mmakedirs\u001b[0m\u001b[0;34m(\u001b[0m\u001b[0mOUTPUT_DIR\u001b[0m\u001b[0;34m)\u001b[0m\u001b[0;34m\u001b[0m\u001b[0;34m\u001b[0m\u001b[0m\n\u001b[0m\u001b[1;32m     26\u001b[0m \u001b[0mprint\u001b[0m\u001b[0;34m(\u001b[0m\u001b[0;34m'***** Model output directory: {} *****'\u001b[0m\u001b[0;34m.\u001b[0m\u001b[0mformat\u001b[0m\u001b[0;34m(\u001b[0m\u001b[0mOUTPUT_DIR\u001b[0m\u001b[0;34m)\u001b[0m\u001b[0;34m)\u001b[0m\u001b[0;34m\u001b[0m\u001b[0;34m\u001b[0m\u001b[0m\n",
            "\u001b[0;32m/usr/local/lib/python3.6/dist-packages/tensorflow/python/lib/io/file_io.py\u001b[0m in \u001b[0;36mrecursive_create_dir_v2\u001b[0;34m(path)\u001b[0m\n\u001b[1;32m    440\u001b[0m     \u001b[0merrors\u001b[0m\u001b[0;34m.\u001b[0m\u001b[0mOpError\u001b[0m\u001b[0;34m:\u001b[0m \u001b[0mIf\u001b[0m \u001b[0mthe\u001b[0m \u001b[0moperation\u001b[0m \u001b[0mfails\u001b[0m\u001b[0;34m.\u001b[0m\u001b[0;34m\u001b[0m\u001b[0;34m\u001b[0m\u001b[0m\n\u001b[1;32m    441\u001b[0m   \"\"\"\n\u001b[0;32m--> 442\u001b[0;31m   \u001b[0m_pywrap_file_io\u001b[0m\u001b[0;34m.\u001b[0m\u001b[0mRecursivelyCreateDir\u001b[0m\u001b[0;34m(\u001b[0m\u001b[0mcompat\u001b[0m\u001b[0;34m.\u001b[0m\u001b[0mas_bytes\u001b[0m\u001b[0;34m(\u001b[0m\u001b[0mpath\u001b[0m\u001b[0;34m)\u001b[0m\u001b[0;34m)\u001b[0m\u001b[0;34m\u001b[0m\u001b[0;34m\u001b[0m\u001b[0m\n\u001b[0m\u001b[1;32m    443\u001b[0m \u001b[0;34m\u001b[0m\u001b[0m\n\u001b[1;32m    444\u001b[0m \u001b[0;34m\u001b[0m\u001b[0m\n",
            "\u001b[0;31mInvalidArgumentError\u001b[0m: 'object' must be a non-empty string. (File: gs://fdl-astronaut-health/)"
          ]
        }
      ]
    },
    {
      "cell_type": "markdown",
      "metadata": {
        "id": "gW1jrBB6tR5K",
        "colab_type": "text"
      },
      "source": [
        "================<br>\n",
        "Ignore the warning!<br>\n",
        "After you authenticated with google cloud you should see something like this:<br>\n",
        "Updated property [core/project].\n",
        "***** Model output directory: gs://yourbucket/subfolder *****\n"
      ]
    },
    {
      "cell_type": "markdown",
      "metadata": {
        "id": "V8Hx7ts3qU4K",
        "colab_type": "text"
      },
      "source": [
        "#### Example saving data"
      ]
    },
    {
      "cell_type": "code",
      "metadata": {
        "id": "2aHEpMQTqO-t",
        "colab_type": "code",
        "colab": {}
      },
      "source": [
        "really_complex_numbers = [0,1,4,2,634,3,2,4,65]\n",
        "test = np.asarray(really_complex_numbers)\n",
        "np.save('test.npy', test)"
      ],
      "execution_count": null,
      "outputs": []
    },
    {
      "cell_type": "code",
      "metadata": {
        "id": "4V2_AlRyt3Du",
        "colab_type": "code",
        "colab": {
          "base_uri": "https://localhost:8080/",
          "height": 34
        },
        "outputId": "c40e10d7-1b95-4ab3-99e1-32a87184bdfe"
      },
      "source": [
        "# with the ! operator you have control over the filesystem behind the Colab notebook\n",
        "!ls"
      ],
      "execution_count": null,
      "outputs": [
        {
          "output_type": "stream",
          "text": [
            "adc.json  sample_data  test.npy\n"
          ],
          "name": "stdout"
        }
      ]
    },
    {
      "cell_type": "code",
      "metadata": {
        "id": "4bjwOCl9u97z",
        "colab_type": "code",
        "colab": {
          "base_uri": "https://localhost:8080/",
          "height": 34
        },
        "outputId": "ec2e19a5-9de3-4c1d-f18e-44657baf3afe"
      },
      "source": [
        "{OUTPUT_DIR}\n"
      ],
      "execution_count": null,
      "outputs": [
        {
          "output_type": "execute_result",
          "data": {
            "text/plain": [
              "{'gs://usnavy_mr/rosbags'}"
            ]
          },
          "metadata": {
            "tags": []
          },
          "execution_count": 5
        }
      ]
    },
    {
      "cell_type": "code",
      "metadata": {
        "id": "5efFy20LuSvy",
        "colab_type": "code",
        "colab": {
          "base_uri": "https://localhost:8080/",
          "height": 69
        },
        "outputId": "d024190f-58f4-40e4-f55f-ccab846ba382"
      },
      "source": [
        "# using gsutil to upload it to the blob = this is an quick & dirty solution - its much more elegant to do this without gsutil\n",
        "!gsutil cp test.npy {OUTPUT_DIR}"
      ],
      "execution_count": null,
      "outputs": [
        {
          "output_type": "stream",
          "text": [
            "Copying file://test.npy [Content-Type=application/octet-stream]...\n",
            "/ [1 files][  200.0 B/  200.0 B]                                                \n",
            "Operation completed over 1 objects/200.0 B.                                      \n"
          ],
          "name": "stdout"
        }
      ]
    },
    {
      "cell_type": "code",
      "metadata": {
        "id": "faV5weCrvBPM",
        "colab_type": "code",
        "colab": {
          "base_uri": "https://localhost:8080/",
          "height": 86
        },
        "outputId": "fe85f8f3-923b-4f52-e48a-c6962f4b0eb2"
      },
      "source": [
        "#check if the file is in the bag - in fact list all the files in the bag\n",
        "!gsutil ls -a {OUTPUT_DIR}"
      ],
      "execution_count": null,
      "outputs": [
        {
          "output_type": "stream",
          "text": [
            "gs://usnavy_mr/rosbags/#1586884351864635\n",
            "gs://usnavy_mr/rosbags/src2_noise_nonoise_image_v01.bag#1586894369385977\n",
            "gs://usnavy_mr/rosbags/test.npy#1589749126239735\n",
            "gs://usnavy_mr/rosbags/2020-05-08_yellow_spacecraft/\n"
          ],
          "name": "stdout"
        }
      ]
    },
    {
      "cell_type": "code",
      "metadata": {
        "id": "cDKCIgTySuiU",
        "colab_type": "code",
        "colab": {}
      },
      "source": [
        "#copy all bucket files over to colab vm - warning strongly advise against this:\n",
        "!gsutil cp {OUTPUT_DIR} "
      ],
      "execution_count": null,
      "outputs": []
    }
  ]
}